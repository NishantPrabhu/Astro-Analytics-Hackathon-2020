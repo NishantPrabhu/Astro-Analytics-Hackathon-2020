{
 "cells": [
  {
   "cell_type": "code",
   "execution_count": 69,
   "metadata": {},
   "outputs": [],
   "source": [
    "import numpy as np\n",
    "import numpy.fft as fft\n",
    "import pandas as pd\n",
    "from matplotlib import pyplot as plt\n",
    "import datetime as dt\n",
    "from math import pi\n",
    "from scipy.interpolate import interp1d, InterpolatedUnivariateSpline\n",
    "\n",
    "from sklearn.linear_model import LinearRegression, Ridge, Lasso, SGDRegressor, ARDRegression\n",
    "from sklearn.model_selection import train_test_split\n",
    "from sklearn.experimental import enable_hist_gradient_boosting\n",
    "from sklearn.ensemble import HistGradientBoostingRegressor, RandomForestRegressor\n",
    "from sklearn.ensemble import ExtraTreesRegressor, AdaBoostRegressor, GradientBoostingRegressor\n",
    "from sklearn.ensemble import RandomForestRegressor\n",
    "from sklearn.preprocessing import StandardScaler\n",
    "\n",
    "from lightgbm import LGBMRegressor\n",
    "from xgboost import XGBRegressor\n",
    "from sklearn.preprocessing import MinMaxScaler, PolynomialFeatures\n",
    "from sklearn.neighbors import KNeighborsRegressor\n",
    "from sklearn.svm import SVR, NuSVR\n",
    "from sklearn.decomposition import PCA\n",
    "from sklearn.tree import DecisionTreeRegressor\n",
    "\n",
    "from warnings import simplefilter\n",
    "simplefilter(action='ignore', category=FutureWarning)"
   ]
  },
  {
   "cell_type": "code",
   "execution_count": 60,
   "metadata": {},
   "outputs": [],
   "source": [
    "train = pd.read_csv(\".././mod_data/train_lag2.csv\", parse_dates=['epoch'])\n",
    "test = pd.read_csv(\".././mod_data/test_lag2.csv\", parse_dates=['epoch'])\n",
    "\n",
    "train['r_sim'] = np.sqrt(train['x_sim']**2 + train['y_sim']**2 + train['z_sim']**2)\n",
    "train['xy_r_sim'] = np.sqrt(train['x_sim']**2 + train['y_sim']**2)\n",
    "train['yz_r_sim'] = np.sqrt(train['y_sim']**2 + train['z_sim']**2)\n",
    "train['zx_r_sim'] = np.sqrt(train['x_sim']**2 + train['z_sim']**2)\n",
    "train['alpha_sim'] = np.arccos(train['x_sim']/train['r_sim'])\n",
    "train['beta_sim'] = np.arccos(train['y_sim']/train['r_sim'])\n",
    "train['gamma_sim'] = np.arccos(train['z_sim']/train['r_sim'])\n",
    "train['phi_xy_sim'] = np.arctan(train['x_sim']/train['y_sim'])\n",
    "train['phi_yz_sim'] = np.arctan(train['y_sim']/train['z_sim'])\n",
    "train['phi_zx_sim'] = np.arctan(train['z_sim']/train['x_sim'])"
   ]
  },
  {
   "cell_type": "code",
   "execution_count": 48,
   "metadata": {},
   "outputs": [],
   "source": [
    "def smape(y_pred, y_true): \n",
    "    return 'SMAPE', np.mean(np.abs((y_pred - y_true)/(np.abs(y_pred) + np.abs(y_true)))), False"
   ]
  },
  {
   "cell_type": "code",
   "execution_count": 78,
   "metadata": {},
   "outputs": [
    {
     "name": "stdout",
     "output_type": "stream",
     "text": [
      "x \t : \t 0.051257\n",
      "y \t : \t 0.050208\n",
      "z \t : \t 0.039474\n",
      "Vx \t : \t 0.057512\n",
      "Vy \t : \t 0.049097\n",
      "Vz \t : \t 0.038098\n",
      "\n",
      "Average smape: 0.047608\n"
     ]
    }
   ],
   "source": [
    "idx = 1\n",
    "\n",
    "data = train.loc[train['sat_id']==idx].reset_index()\n",
    "data['t'] = (data['epoch'] - data.at[0, 'epoch']).dt.total_seconds()\n",
    "data['ax_sim'] = data['Vx_sim'].diff().fillna(0)/data['t'].diff().fillna(0.1)\n",
    "data['ay_sim'] = data['Vy_sim'].diff().fillna(0)/data['t'].diff().fillna(0.1)\n",
    "data['az_sim'] = data['Vz_sim'].diff().fillna(0)/data['t'].diff().fillna(0.1)\n",
    "\n",
    "poly_cols = ['x_sim', 'y_sim', 'z_sim', 'Vx_sim', 'Vy_sim', 'Vz_sim']\n",
    "pos_cols = poly_cols[:3]\n",
    "vel_cols = poly_cols[-3:]\n",
    "lag_cols = [col for col in train.columns if ('_b' in col) or ('_f' in col)]\n",
    "pred_cols = ['x', 'y', 'z', 'Vx', 'Vy', 'Vz']\n",
    "new_cols = ['r_sim', 'xy_r_sim', 'yz_r_sim', 'zx_r_sim', 'alpha_sim', 'beta_sim', 'gamma_sim', \n",
    "            'phi_xy_sim', 'phi_yz_sim', 'phi_zx_sim']\n",
    "smape_sum = 0\n",
    "\n",
    "for var in pred_cols[:3]:\n",
    "    poly = PolynomialFeatures(degree=2)\n",
    "    X, y = np.hstack((poly.fit_transform(data[poly_cols]), data[lag_cols], data[new_cols])), data[var]\n",
    "    X_train, y_train = X[:int(0.8*len(X))], y.values[:int(0.8*len(X))]\n",
    "    X_val, y_val = X[int(0.8*len(X)):], y.values[int(0.8*len(X)):]\n",
    "    \n",
    "    reg = LGBMRegressor(n_estimators=700, max_depth=11, learning_rate=0.1, random_state=123)\n",
    "    reg.fit(X_train, y_train)\n",
    "    preds = reg.predict(X_val).reshape((1, -1))[0]\n",
    "    print(\"{} \\t : \\t {:.6f}\".format(var, smape(preds, y_val)[1]))\n",
    "    smape_sum += smape(preds, y_val)[1]\n",
    "    \n",
    "for var in pred_cols[-3:]:\n",
    "    poly = PolynomialFeatures(degree=2)\n",
    "    X, y = np.hstack((poly.fit_transform(data[vel_cols]), data[lag_cols], data[new_cols])), data[var]\n",
    "    X_train, y_train = X[:int(0.8*len(X))], y.values[:int(0.8*len(X))]\n",
    "    X_val, y_val = X[int(0.8*len(X)):], y.values[int(0.8*len(X)):]\n",
    "    \n",
    "    reg = LGBMRegressor(n_estimators=700, max_depth=11, learning_rate=0.1, random_state=123)\n",
    "    reg.fit(X_train, y_train)\n",
    "    preds = reg.predict(X_val).reshape((1, -1))[0]\n",
    "    print(\"{} \\t : \\t {:.6f}\".format(var, smape(preds, y_val)[1]))\n",
    "    smape_sum += smape(preds, y_val)[1]\n",
    "    \n",
    "print(\"\\nAverage smape: {:.6f}\".format(smape_sum/6.0))"
   ]
  },
  {
   "cell_type": "code",
   "execution_count": 75,
   "metadata": {},
   "outputs": [
    {
     "data": {
      "image/png": "[encoded data removed]",
      "text/plain": [
       "<Figure size 1440x432 with 1 Axes>"
      ]
     },
     "metadata": {
      "needs_background": "light"
     },
     "output_type": "display_data"
    }
   ],
   "source": [
    "plt.figure(figsize=(20, 6))\n",
    "plt.plot(preds, color='red', label='predicted')\n",
    "plt.plot(y_val, color='blue', label='true')\n",
    "plt.legend()\n",
    "plt.grid()\n",
    "plt.show()"
   ]
  },
  {
   "cell_type": "code",
   "execution_count": null,
   "metadata": {},
   "outputs": [],
   "source": []
  }
 ],
 "metadata": {
  "kernelspec": {
   "display_name": "Python 3",
   "language": "python",
   "name": "python3"
  },
  "language_info": {
   "codemirror_mode": {
    "name": "ipython",
    "version": 3
   },
   "file_extension": ".py",
   "mimetype": "text/x-python",
   "name": "python",
   "nbconvert_exporter": "python",
   "pygments_lexer": "ipython3",
   "version": "3.6.9"
  }
 },
 "nbformat": 4,
 "nbformat_minor": 4
}
